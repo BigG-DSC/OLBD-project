{
 "cells": [
  {
   "cell_type": "code",
   "execution_count": 2,
   "metadata": {},
   "outputs": [],
   "source": [
    "import pandas as pd\n",
    "from geopy.distance import geodesic"
   ]
  },
  {
   "cell_type": "code",
   "execution_count": 5,
   "metadata": {},
   "outputs": [
    {
     "name": "stderr",
     "output_type": "stream",
     "text": [
      "/usr/local/lib/python3.6/dist-packages/ipykernel_launcher.py:19: FutureWarning: set_value is deprecated and will be removed in a future release. Please use .at[] or .iat[] accessors instead\n"
     ]
    }
   ],
   "source": [
    "stations = pd.read_csv('data/air/stations.csv', sep=',', encoding='latin-1')\n",
    "locations = pd.read_csv('data/children/schools.csv', sep=';', encoding='latin-1')\n",
    "\n",
    "locations[\"closestStation\"] = None\n",
    "\n",
    "for i in range(len(locations)):\n",
    "    min_dist = 100000\n",
    "    closest = \"\"\n",
    "    location = locations.loc[i]\n",
    "    coords_location = (float(location[\"LATITUD\"]), float(location[\"LONGITUD\"]))\n",
    "    for key, station in stations.iterrows():\n",
    "        coords_station = (float(station[\"lat\"]), float(station[\"lon\"]))\n",
    "        \n",
    "        dist = geodesic(coords_location, coords_station).miles\n",
    "        \n",
    "        if dist < min_dist:\n",
    "            min_dist, closest = dist, station[\"id\"]\n",
    "    \n",
    "    locations.set_value(i, 'closestStation', closest)\n",
    "        \n",
    "locations.to_csv(\"data/children/schools_cs.csv\", sep=';', encoding='utf-8')"
   ]
  },
  {
   "cell_type": "code",
   "execution_count": 3,
   "metadata": {},
   "outputs": [
    {
     "ename": "ValueError",
     "evalue": "could not convert string to float: '40.402.191'",
     "output_type": "error",
     "traceback": [
      "\u001b[0;31m---------------------------------------------------------------------------\u001b[0m",
      "\u001b[0;31mValueError\u001b[0m                                Traceback (most recent call last)",
      "\u001b[0;32m<ipython-input-3-62943153bd16>\u001b[0m in \u001b[0;36m<module>\u001b[0;34m()\u001b[0m\n\u001b[1;32m     11\u001b[0m     \u001b[0mlat\u001b[0m \u001b[0;34m=\u001b[0m \u001b[0mlocation\u001b[0m\u001b[0;34m[\u001b[0m\u001b[0;34m\"LATITUD\"\u001b[0m\u001b[0;34m]\u001b[0m\u001b[0;34m\u001b[0m\u001b[0m\n\u001b[1;32m     12\u001b[0m \u001b[0;34m\u001b[0m\u001b[0m\n\u001b[0;32m---> 13\u001b[0;31m     \u001b[0mcoords_location\u001b[0m \u001b[0;34m=\u001b[0m \u001b[0;34m(\u001b[0m\u001b[0mfloat\u001b[0m\u001b[0;34m(\u001b[0m\u001b[0mlocation\u001b[0m\u001b[0;34m[\u001b[0m\u001b[0;34m\"LATITUD\"\u001b[0m\u001b[0;34m]\u001b[0m\u001b[0;34m)\u001b[0m\u001b[0;34m,\u001b[0m \u001b[0mfloat\u001b[0m\u001b[0;34m(\u001b[0m\u001b[0mlocation\u001b[0m\u001b[0;34m[\u001b[0m\u001b[0;34m\"LONGITUD\"\u001b[0m\u001b[0;34m]\u001b[0m\u001b[0;34m)\u001b[0m\u001b[0;34m)\u001b[0m\u001b[0;34m\u001b[0m\u001b[0m\n\u001b[0m\u001b[1;32m     14\u001b[0m     \u001b[0;32mfor\u001b[0m \u001b[0mkey\u001b[0m\u001b[0;34m,\u001b[0m \u001b[0mstation\u001b[0m \u001b[0;32min\u001b[0m \u001b[0mstations\u001b[0m\u001b[0;34m.\u001b[0m\u001b[0miterrows\u001b[0m\u001b[0;34m(\u001b[0m\u001b[0;34m)\u001b[0m\u001b[0;34m:\u001b[0m\u001b[0;34m\u001b[0m\u001b[0m\n\u001b[1;32m     15\u001b[0m         \u001b[0mcoords_station\u001b[0m \u001b[0;34m=\u001b[0m \u001b[0;34m(\u001b[0m\u001b[0mfloat\u001b[0m\u001b[0;34m(\u001b[0m\u001b[0mstation\u001b[0m\u001b[0;34m[\u001b[0m\u001b[0;34m\"lat\"\u001b[0m\u001b[0;34m]\u001b[0m\u001b[0;34m)\u001b[0m\u001b[0;34m,\u001b[0m \u001b[0mfloat\u001b[0m\u001b[0;34m(\u001b[0m\u001b[0mstation\u001b[0m\u001b[0;34m[\u001b[0m\u001b[0;34m\"lon\"\u001b[0m\u001b[0;34m]\u001b[0m\u001b[0;34m)\u001b[0m\u001b[0;34m)\u001b[0m\u001b[0;34m\u001b[0m\u001b[0m\n",
      "\u001b[0;31mValueError\u001b[0m: could not convert string to float: '40.402.191'"
     ]
    }
   ],
   "source": [
    "stations = pd.read_csv('data/air/stations.csv', sep=',', encoding='latin-1')\n",
    "locations = pd.read_csv('ProcessedData/elderlyareas.csv', sep=',', encoding='latin-1')\n",
    "\n",
    "locations[\"closestStation\"] = None\n",
    "\n",
    "for i in range(len(locations)):\n",
    "    min_dist = 100000\n",
    "    closest = \"\"\n",
    "    location = locations.loc[i]\n",
    "    \n",
    "    lat = location[\"LATITUD\"]\n",
    "    \n",
    "    coords_location = (float(location[\"LATITUD\"]), float(location[\"LONGITUD\"]))\n",
    "    for key, station in stations.iterrows():\n",
    "        coords_station = (float(station[\"lat\"]), float(station[\"lon\"]))\n",
    "        \n",
    "        dist = geodesic(coords_location, coords_station).miles\n",
    "        \n",
    "        if dist < min_dist:\n",
    "            min_dist, closest = dist, station[\"id\"]\n",
    "    \n",
    "    locations.set_value(i, 'closestStation', closest)\n",
    "        \n",
    "locations.to_csv(\"ProcessedData/elderlyareas.csv\", sep=';', encoding='utf-8')"
   ]
  },
  {
   "cell_type": "code",
   "execution_count": null,
   "metadata": {},
   "outputs": [],
   "source": [
    "stations = pd.read_csv('data/air/stations.csv', sep=',', encoding='latin-1')\n",
    "locations = pd.read_csv('ProcessedData/elderlyareas.csv', sep=',', encoding='latin-1')\n",
    "\n",
    "locations[\"closestStation\"] = None\n",
    "\n",
    "for i in range(len(locations)):\n",
    "    min_dist = 100000\n",
    "    closest = \"\"\n",
    "    location = locations.loc[i]\n",
    "    \n",
    "    lat = location[\"LATITUD\"]\n",
    "    \n",
    "    coords_location = (float(location[\"LATITUD\"]), float(location[\"LONGITUD\"]))\n",
    "    for key, station in stations.iterrows():\n",
    "        coords_station = (float(station[\"lat\"]), float(station[\"lon\"]))\n",
    "        \n",
    "        dist = geodesic(coords_location, coords_station).miles\n",
    "        \n",
    "        if dist < min_dist:\n",
    "            min_dist, closest = dist, station[\"id\"]\n",
    "    \n",
    "    locations.set_value(i, 'closestStation', closest)\n",
    "        \n",
    "locations.to_csv(\"ProcessedData/elderlyareas.csv\", sep=';', encoding='utf-8')"
   ]
  }
 ],
 "metadata": {
  "kernelspec": {
   "display_name": "Python 3",
   "language": "python",
   "name": "python3"
  },
  "language_info": {
   "codemirror_mode": {
    "name": "ipython",
    "version": 3
   },
   "file_extension": ".py",
   "mimetype": "text/x-python",
   "name": "python",
   "nbconvert_exporter": "python",
   "pygments_lexer": "ipython3",
   "version": "3.6.6"
  }
 },
 "nbformat": 4,
 "nbformat_minor": 2
}
