{
 "cells": [
  {
   "cell_type": "code",
   "execution_count": 1,
   "metadata": {},
   "outputs": [
    {
     "data": {
      "text/plain": [
       "<Graph identifier=file:///home/boy/Dropbox/TUe/2018-2019/S1/Open%20linked%20big%20data/site/OLBD-project/RDFs/madrid_2017.ttl (<class 'rdflib.graph.Graph'>)>"
      ]
     },
     "execution_count": 1,
     "metadata": {},
     "output_type": "execute_result"
    }
   ],
   "source": [
    "import rdflib\n",
    "import rdfextras\n",
    "\n",
    "lv2 = rdflib.Namespace('http://safeair.es/project/ontology/SafeAir#')\n",
    "path = \"RDFs/stations.ttl\" \n",
    "plugin = rdflib.URIRef(\"http://safeair.es/project/resources/\")\n",
    "\n",
    "model = rdflib.ConjunctiveGraph()\n",
    "\n",
    "path = \"RDFs/stations.ttl\" \n",
    "model.parse(path, format='ttl')\n",
    "\n",
    "path = \"RDFs/schools.ttl\" \n",
    "model.parse(path, format='ttl')\n",
    "\n",
    "path = \"RDFs/sportcenters.ttl\" \n",
    "model.parse(path, format='ttl')\n",
    "\n",
    "path = \"RDFs/elderlyareas.ttl\" \n",
    "model.parse(path, format='ttl')\n",
    "\n",
    "path = \"RDFs/madrid_2017.ttl\" \n",
    "model.parse(path, format='ttl')"
   ]
  },
  {
   "cell_type": "code",
   "execution_count": 2,
   "metadata": {},
   "outputs": [],
   "source": [
    "prefixes = \"\"\"\n",
    "prefix geo: <http://www.w3.org/2003/01/geo/wgs84_pos#> \n",
    "prefix safeair: <http://safeare.es/project/ontology/SafeAir#> \n",
    "prefix rdf: <http://www.w3.org/1999/02/22-rdf-syntax-ns#> \n",
    "prefix owl: <http://www.w3.org/2002/07/owl#> \n",
    "prefix xml: <http://www.w3.org/XML/1998/namespace> \n",
    "prefix xsd: <http://www.w3.org/2001/XMLSchema#> \n",
    "prefix rdfs: <http://www.w3.org/2000/01/rdf-schema#> \n",
    "prefix vcard: <http://www.w3.org/2006/vcard/ns#> \n",
    "PREFIX wd: <http://www.wikidata.org/entity/>\n",
    "PREFIX wds: <http://www.wikidata.org/entity/statement/>\n",
    "PREFIX wdv: <http://www.wikidata.org/value/>\n",
    "PREFIX wdt: <http://www.wikidata.org/prop/direct/>\n",
    "PREFIX wikibase: <http://wikiba.se/ontology#>\n",
    "PREFIX p: <http://www.wikidata.org/prop/>\n",
    "PREFIX ps: <http://www.wikidata.org/prop/statement/>\n",
    "PREFIX pq: <http://www.wikidata.org/prop/qualifier/>\n",
    "PREFIX rdfs: <http://www.w3.org/2000/01/rdf-schema#>\n",
    "PREFIX bd: <http://www.bigdata.com/rdf#>\n",
    "\"\"\""
   ]
  },
  {
   "cell_type": "code",
   "execution_count": 3,
   "metadata": {},
   "outputs": [
    {
     "name": "stdout",
     "output_type": "stream",
     "text": [
      "School: ESCUELA INFANTIL MUNICIPAL LA ALEGRÍA DE LA HUERTA is closest to 28079016\n",
      "School: ESCUELA INFANTIL MUNICIPAL FERNANDO EL CATÓLICO is closest to 28079004\n",
      "School: ESCUELA INFANTIL MUNICIPAL AGUA DULCE is closest to 28079038\n",
      "School: ESCUELA INFANTIL MUNICIPAL CAMPANILLA is closest to 28079038\n",
      "School: ESCUELA INFANTIL MUNICIPAL LA CORNISA is closest to 28079056\n",
      "School: ESCUELA INFANTIL MUNICIPAL LA PALOMA is closest to 28079035\n",
      "School: ESCUELA INFANTIL MUNICIPAL LAS NUBES is closest to 28079047\n",
      "School: ESCUELA INFANTIL MUNICIPAL LAS VIÑAS is closest to 28079024\n",
      "School: ESCUELA INFANTIL MUNICIPAL EL CASERÍO is closest to 28079040\n",
      "School: ESCUELA INFANTIL MUNICIPAL EL SOL is closest to 28079011\n",
      "School: ESCUELA INFANTIL MUNICIPAL LA ROSA DEL AZAFRÁN is closest to 28079060\n",
      "School: ESCUELA INFANTIL MUNICIPAL TARABILLA is closest to 28079016\n",
      "School: ESCUELA INFANTIL MUNICIPAL LA PATRIA CHICA is closest to 28079017\n",
      "School: ESCUELA INFANTIL MUNICIPAL LA COLINA is closest to 28079027\n",
      "School: ESCUELA INFANTIL MUNICIPAL LA BRISA is closest to 28079050\n",
      "School: ESCUELA INFANTIL MUNICIPAL EL BATEO is closest to 28079055\n",
      "School: ESCUELA INFANTIL MUNICIPAL EL OLIVAR is closest to 28079035\n",
      "School: ESCUELA INFANTIL MUNICIPAL EL BOSQUE is closest to 28079047\n",
      "School: ESCUELA INFANTIL MUNICIPAL HIEDRA is closest to 28079016\n",
      "School: ESCUELA INFANTIL MUNICIPAL EL MANANTIAL is closest to 28079018\n",
      "School: ESCUELA INFANTIL MUNICIPAL OSA MENOR is closest to 28079035\n",
      "School: ESCUELA INFANTIL MUNICIPAL ESCUELAS DE SAN ANTÓN is closest to 28079035\n",
      "School: ESCUELA INFANTIL MUNICIPAL LA DEL MANOJO DE ROSAS is closest to 28079036\n",
      "School: ESCUELA INFANTIL MUNICIPAL CIELO AZUL is closest to 28079036\n",
      "School: ESCUELA INFANTIL MUNICIPAL LOS PINOS is closest to 28079017\n",
      "School: ESCUELA INFANTIL MUNICIPAL LAS AMAPOLAS is closest to 28079056\n",
      "School: ESCUELA INFANTIL MUNICIPAL ALTAIR is closest to 28079018\n",
      "School: ESCUELA INFANTIL MUNICIPAL EL BARBERILLO DE LAVAPIÉS is closest to 28079047\n",
      "School: ESCUELA INFANTIL MUNICIPAL EL ROCÍO is closest to 28079017\n",
      "School: ESCUELA INFANTIL MUNICIPAL LA CORTE DE FARAÓN is closest to 28079039\n",
      "School: ESCUELA INFANTIL MUNICIPAL MOLINOS DE VIENTO is closest to 28079036\n",
      "School: ESCUELA INFANTIL MUNICIPAL VEOVEO is closest to 28079016\n",
      "School: ESCUELA INFANTIL MUNICIPAL LUIS BELLO is closest to 28079011\n",
      "School: ESCUELA INFANTIL MUNICIPAL LOS SOBRINOS DEL CAPITAN GRANT is closest to 28079054\n",
      "School: ESCUELA INFANTIL MUNICIPAL LA DEL SOTO DEL PARRAL is closest to 28079018\n",
      "School: ESCUELA INFANTIL MUNICIPAL LUISA FERNANDA is closest to 28079040\n",
      "School: ESCUELA INFANTIL MUNICIPAL EL DUENDE is closest to 28079004\n",
      "School: ESCUELA INFANTIL MUNICIPAL LA CARACOLA is closest to 28079060\n",
      "School: ESCUELA INFANTIL MUNICIPAL LA GRAN VÍA is closest to 28079059\n",
      "School: ESCUELA INFANTIL MUNICIPAL LA CHULAPONA is closest to 28079055\n",
      "School: ESCUELA INFANTIL MUNICIPAL LA OLIVA is closest to 28079017\n",
      "School: ESCUELA INFANTIL MUNICIPAL EL ALBA is closest to 28079018\n",
      "School: ESCUELA INFANTIL MUNICIPAL LA VERBENA DE LA PALOMA is closest to 28079018\n",
      "School: ESCUELA INFANTIL MUNICIPAL LAS MERCEDES is closest to 28079055\n",
      "School: ESCUELA INFANTIL MUNICIPAL RUÍZ JIMÉNEZ is closest to 28079048\n",
      "School: ESCUELA INFANTIL MUNICIPAL EL LIRÓN is closest to 28079036\n",
      "School: ESCUELA INFANTIL MUNICIPAL LA LUNA is closest to 28079017\n",
      "School: ESCUELA INFANTIL MUNICIPAL ANA DE AUSTRIA is closest to 28079057\n",
      "School: ESCUELA INFANTIL MUNICIPAL GIGANTES Y CABEZUDOS is closest to 28079011\n",
      "School: ESCUELA INFANTIL MUNICIPAL LOS GAVILANES is closest to 28079038\n",
      "School: ESCUELA INFANTIL MUNICIPAL LAS AZALEAS is closest to 28079016\n",
      "School: ESCUELA INFANTIL MUNICIPAL DOÑA FRANCISQUITA is closest to 28079059\n",
      "School: ESCUELA INFANTIL MUNICIPAL LA REVOLTOSA is closest to 28079054\n",
      "School: ESCUELA INFANTIL MUNICIPAL LAS LEANDRAS is closest to 28079055\n",
      "School: ESCUELA INFANTIL MUNICIPAL AMANECER is closest to 28079054\n",
      "School: ESCUELA INFANTIL MUNICIPAL LOS JUNCOS is closest to 28079036\n"
     ]
    }
   ],
   "source": [
    "qres = model.query(prefixes + \"\"\"\n",
    "SELECT ?name ?station\n",
    "WHERE {\n",
    "    ?object a safeair:School;\n",
    "    safeair:isClosestTo ?station;\n",
    "    safeair:locName ?name .\n",
    "}\n",
    "\"\"\")\n",
    "\n",
    "for row in qres:\n",
    "    print(\"School: \" + row.name + \" is closest to \" + str(row.station))\n",
    "    "
   ]
  },
  {
   "cell_type": "code",
   "execution_count": 4,
   "metadata": {},
   "outputs": [
    {
     "name": "stdout",
     "output_type": "stream",
     "text": [
      "http://safeair.es/project/resources/District%2FMONCLOA+-+ARAVACA is the same as https://www.wikidata.org/wiki/Q2017682\n",
      "http://safeair.es/project/resources/District/ARGANZUELA is the same as https://www.wikidata.org/wiki/Q2000929\n",
      "http://safeair.es/project/resources/District%2FFUENCARRAL-EL+PARDO is the same as https://www.wikidata.org/wiki/Q656196\n",
      "http://safeair.es/project/resources/District/CENTRO is the same as https://www.wikidata.org/wiki/Q1763376\n",
      "http://safeair.es/project/resources/District/HORTALEZA is the same as https://www.wikidata.org/wiki/Q1928529\n",
      "http://safeair.es/project/resources/District/PUENTEDEVALLECAS is the same as https://www.wikidata.org/wiki/Q2003054\n",
      "http://safeair.es/project/resources/District/TETUAN is the same as https://www.wikidata.org/wiki/Q1773540\n",
      "http://safeair.es/project/resources/District/RETIRO is the same as https://www.wikidata.org/wiki/Q2002296\n",
      "http://safeair.es/project/resources/District%2FCIUDAD+LINEAL is the same as https://www.wikidata.org/wiki/Q1763694\n",
      "http://safeair.es/project/resources/District%2FSAN+BLAS-CANILLEJAS is the same as https://www.wikidata.org/wiki/Q2001937\n",
      "http://safeair.es/project/resources/District/SANBLAS-CANILLEJAS is the same as https://www.wikidata.org/wiki/Q2001937\n",
      "http://safeair.es/project/resources/District/MORATALAZ is the same as https://www.wikidata.org/wiki/Q2076109\n",
      "http://safeair.es/project/resources/District%2FPUENTE+DE+VALLECAS is the same as https://www.wikidata.org/wiki/Q2003054\n",
      "http://safeair.es/project/resources/District/MONCLOA-ARAVACA is the same as https://www.wikidata.org/wiki/Q2017682\n",
      "http://safeair.es/project/resources/District/BARAJAS is the same as https://www.wikidata.org/wiki/Q807230\n",
      "http://safeair.es/project/resources/District/CHAMARTIN is the same as https://www.wikidata.org/wiki/Q1766348\n",
      "http://safeair.es/project/resources/District/SALAMANCA is the same as https://www.wikidata.org/wiki/Q1773521\n",
      "http://safeair.es/project/resources/District/CARABANCHEL is the same as https://www.wikidata.org/wiki/Q1001991\n",
      "http://safeair.es/project/resources/District/LATINA is the same as https://www.wikidata.org/wiki/Q794954\n",
      "http://safeair.es/project/resources/District%2FSAN+BLAS+-+CANILLEJAS is the same as https://www.wikidata.org/wiki/Q2001937\n",
      "http://safeair.es/project/resources/District/CHAMBERI is the same as https://www.wikidata.org/wiki/Q1763370\n",
      "http://safeair.es/project/resources/District/CIUDADLINEAL is the same as https://www.wikidata.org/wiki/Q1763694\n",
      "http://safeair.es/project/resources/District/FUENCARRAL-ELPARDO is the same as https://www.wikidata.org/wiki/Q656196\n",
      "http://safeair.es/project/resources/District/VICALVARO is the same as https://www.wikidata.org/wiki/Q589403\n",
      "http://safeair.es/project/resources/District/VILLAVERDE is the same as https://www.wikidata.org/wiki/Q919536\n",
      "http://safeair.es/project/resources/District%2FVILLA+DE+VALLECAS is the same as https://www.wikidata.org/wiki/Q1947988\n",
      "http://safeair.es/project/resources/District/VILLADEVALLECAS is the same as https://www.wikidata.org/wiki/Q1947988\n",
      "http://safeair.es/project/resources/District/USERA is the same as https://www.wikidata.org/wiki/Q953368\n"
     ]
    }
   ],
   "source": [
    "from IPython.display import Image\n",
    "\n",
    "qres = model.query(prefixes + \"\"\"\n",
    "SELECT ?district ?wikidist\n",
    "WHERE {\n",
    " ?district a safeair:District;\n",
    "  owl:sameAs ?wikidist .\n",
    "}\n",
    "\"\"\")\n",
    "\n",
    "for row in qres:\n",
    "    print(str(row.district) + \" is the same as \" + str(row.wikidist))\n",
    "    #Image(filename=row.img) "
   ]
  },
  {
   "cell_type": "code",
   "execution_count": 5,
   "metadata": {},
   "outputs": [
    {
     "name": "stdout",
     "output_type": "stream",
     "text": [
      "http://safeair.es/project/resources/School/5633199\n",
      "http://safeair.es/project/resources/School/100359\n"
     ]
    }
   ],
   "source": [
    "qres = model.query(prefixes + \"\"\"\n",
    "SELECT ?p\n",
    "WHERE {\n",
    " ?p a safeair:School;\n",
    "  safeair:isClosestTo \"28079004\"^^xsd:int .\n",
    "}\n",
    "\"\"\")\n",
    "\n",
    "for row in qres:    \n",
    "    print(row.p)"
   ]
  },
  {
   "cell_type": "code",
   "execution_count": 6,
   "metadata": {},
   "outputs": [],
   "source": [
    "qres = model.query(prefixes + \"\"\"\n",
    "SELECT ?p\n",
    "WHERE {\n",
    " ?p a safeair:Measurement.\n",
    "}\n",
    "\"\"\")\n",
    "\n",
    "for row in qres:    \n",
    "    print(row.p)"
   ]
  }
 ],
 "metadata": {
  "kernelspec": {
   "display_name": "Python 3",
   "language": "python",
   "name": "python3"
  },
  "language_info": {
   "codemirror_mode": {
    "name": "ipython",
    "version": 3
   },
   "file_extension": ".py",
   "mimetype": "text/x-python",
   "name": "python",
   "nbconvert_exporter": "python",
   "pygments_lexer": "ipython3",
   "version": "3.6.6"
  }
 },
 "nbformat": 4,
 "nbformat_minor": 2
}
