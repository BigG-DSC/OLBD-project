{
 "cells": [
  {
   "cell_type": "code",
   "execution_count": 10,
   "metadata": {},
   "outputs": [],
   "source": [
    "import pandas as pd\n",
    "from geopy.distance import geodesic\n",
    "\n",
    "def addClosestStation(input_file, output_file, sep, lat_col, lon_col):\n",
    "    \n",
    "    stations = pd.read_csv('data/air/stations.csv', sep=',', encoding='latin-1')\n",
    "    locations = pd.read_csv(input_file, sep=sep, encoding='latin-1')\n",
    "    \n",
    "    locations[\"closestStation\"] = None\n",
    "\n",
    "    for i in range(len(locations)):\n",
    "        min_dist = 100000\n",
    "        closest = \"\"\n",
    "        location = locations.loc[i]\n",
    "        coords_location = (float(location[lat_col]), float(location[lon_col]))\n",
    "        for key, station in stations.iterrows():\n",
    "            coords_station = (float(station[\"lat\"]), float(station[\"lon\"]))\n",
    "\n",
    "            dist = geodesic(coords_location, coords_station).miles\n",
    "\n",
    "            if dist < min_dist:\n",
    "                min_dist, closest = dist, station[\"id\"]\n",
    "\n",
    "        locations.set_value(i, 'closestStation', closest)\n",
    "\n",
    "    locations.to_csv(output_file, sep=';', encoding='utf-8')\n",
    "\n",
    "#addClosestStation(\"ProcessedData/schools.csv\", \"ProcessedData/schools_cs.csv\", \";\", \"LATITUD\", \"LONGITUD\")  \n",
    "#addClosestStation(\"ProcessedData/elderlyareas.csv\", \"ProcessedData/elderlyareas_cs.csv\", \",\", \"LATITUD\", \"LONGITUD\")\n",
    "#addClosestStation(\"ProcessedData/sportcenters.csv\", \"ProcessedData/sportcenters_cs.csv\", \",\", \"LATITUD\", \"LONGITUD\")"
   ]
  }
 ],
 "metadata": {
  "kernelspec": {
   "display_name": "Python 3",
   "language": "python",
   "name": "python3"
  },
  "language_info": {
   "codemirror_mode": {
    "name": "ipython",
    "version": 3
   },
   "file_extension": ".py",
   "mimetype": "text/x-python",
   "name": "python",
   "nbconvert_exporter": "python",
   "pygments_lexer": "ipython3",
   "version": "3.6.6"
  }
 },
 "nbformat": 4,
 "nbformat_minor": 2
}
